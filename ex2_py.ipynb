{
  "nbformat": 4,
  "nbformat_minor": 0,
  "metadata": {
    "colab": {
      "provenance": [],
      "authorship_tag": "ABX9TyPTmSTLVWk4VDhWsqkw3K53",
      "include_colab_link": true
    },
    "kernelspec": {
      "name": "python3",
      "display_name": "Python 3"
    },
    "language_info": {
      "name": "python"
    }
  },
  "cells": [
    {
      "cell_type": "markdown",
      "metadata": {
        "id": "view-in-github",
        "colab_type": "text"
      },
      "source": [
        "<a href=\"https://colab.research.google.com/github/yyhaodong/Python-100-Days/blob/master/ex2_py.ipynb\" target=\"_parent\"><img src=\"https://colab.research.google.com/assets/colab-badge.svg\" alt=\"Open In Colab\"/></a>"
      ]
    },
    {
      "cell_type": "code",
      "execution_count": 3,
      "metadata": {
        "colab": {
          "base_uri": "https://localhost:8080/"
        },
        "id": "7zElNiC55mXI",
        "outputId": "92f067bf-1747-414f-aad5-db1473c958bf"
      },
      "outputs": [
        {
          "output_type": "stream",
          "name": "stdout",
          "text": [
            "This is fun.\n",
            "Yay! Printing.\n",
            "I'd much rather yor 'not'.\n",
            "I \"said\" do not touch this.\n"
          ]
        }
      ],
      "source": []
    },
    {
      "cell_type": "code",
      "source": [
        "# A comment, this is so you can read your program late.\n",
        "# Anything after the # it is ignored by python.\n",
        "\n",
        "print(\"I could have code like this.\")# and the comment after is ignored\n",
        "\n",
        "# You  can also use a comment to \"disable\" or comment out code\n",
        "# print (\"This won't run.\")\n",
        "\n",
        "print(\"This will run.\")"
      ],
      "metadata": {
        "colab": {
          "base_uri": "https://localhost:8080/"
        },
        "id": "4ArxCkpy8F4r",
        "outputId": "20e80660-6f24-4916-c67c-c1eddd0bc0ed"
      },
      "execution_count": 6,
      "outputs": [
        {
          "output_type": "stream",
          "name": "stdout",
          "text": [
            "I could have code like this.\n",
            "This will run.\n"
          ]
        }
      ]
    },
    {
      "cell_type": "code",
      "source": [],
      "metadata": {
        "id": "kY2h_GydB-nF"
      },
      "execution_count": null,
      "outputs": []
    }
  ]
}